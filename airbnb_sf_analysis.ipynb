{
 "cells": [
  {
   "cell_type": "code",
   "execution_count": 1,
   "metadata": {},
   "outputs": [],
   "source": [
    "import pandas as pd\n",
    "import matplotlib.pyplot as plt\n",
    "import datetime as dt\n",
    "listings = pd.read_csv('listings.csv')"
   ]
  },
  {
   "cell_type": "markdown",
   "metadata": {},
   "source": [
    "# Section 1: Data Integrity and Cleansing"
   ]
  },
  {
   "cell_type": "code",
   "execution_count": 2,
   "metadata": {},
   "outputs": [
    {
     "name": "stdout",
     "output_type": "stream",
     "text": [
      "Rows:  8078 \n",
      "Columns:  106\n"
     ]
    }
   ],
   "source": [
    "# The dataset is comprised of 8078 rows and 106 columns.\n",
    "\n",
    "print('Rows: ', len(listings),'\\n'\n",
    "     'Columns: ', len(listings.columns))"
   ]
  },
  {
   "cell_type": "code",
   "execution_count": 3,
   "metadata": {},
   "outputs": [],
   "source": [
    "# With 106 colulmns, it was easiest to manually review and decide what I wanted to remove.\n",
    "\n",
    "dropCols = ['listing_url','scrape_id','last_scraped','summary','space','neighborhood_overview','notes'\n",
    ",'access','thumbnail_url','medium_url','picture_url','xl_picture_url','host_url','host_name',\n",
    "'host_about','host_thumbnail_url','host_picture_url','host_listings_count','neighbourhood','calendar_last_scraped'\n",
    ",'neighbourhood_group_cleansed','city','state','market','smart_location','country_code','country']\n",
    "\n",
    "for x in dropCols:\n",
    "    del listings[x]"
   ]
  },
  {
   "cell_type": "code",
   "execution_count": 4,
   "metadata": {},
   "outputs": [
    {
     "name": "stdout",
     "output_type": "stream",
     "text": [
      "         countNull\n",
      "count    30.000000\n",
      "mean   1980.366667\n",
      "std    2066.152988\n",
      "min       4.000000\n",
      "25%     580.750000\n",
      "50%    1901.000000\n",
      "75%    1965.000000\n",
      "max    7968.000000\n"
     ]
    },
    {
     "data": {
      "image/png": "[encoded data removed]",
      "text/plain": [
       "<Figure size 360x288 with 1 Axes>"
      ]
     },
     "metadata": {},
     "output_type": "display_data"
    }
   ],
   "source": [
    "# Checking for incomplete data\n",
    "# There are 30 columns containing null values. \n",
    "# Our quartiles show that the average is being dragged up by the top quartile, which can be seen in the chart below.\n",
    "\n",
    "incompleteDataResults = []\n",
    "for i in listings.columns:\n",
    "    if listings[i].isnull().sum() > 0:\n",
    "        incompleteDataResults.append((i, listings[i].isnull().sum()))\n",
    "        \n",
    "cols = ['columnName', 'countNull']\n",
    "incompleteDF=(pd.DataFrame(incompleteDataResults, columns = cols))\n",
    "print(incompleteDF.describe())\n",
    "\n",
    "plt.rcParams['figure.figsize'] = 5,4\n",
    "plt.figure().suptitle('Distribution of Null Values')\n",
    "plt.boxplot(incompleteDF['countNull'])\n",
    "plt.show()"
   ]
  },
  {
   "cell_type": "code",
   "execution_count": 5,
   "metadata": {},
   "outputs": [],
   "source": [
    "# format date cols\n",
    "\n",
    "dates = ['host_since', 'first_review', 'last_review']\n",
    "for x in dates:\n",
    "    listings[x] = pd.to_datetime(listings[x], format= '%Y-%m-%d')\n",
    "    \n",
    "# format percentage cols.\n",
    "\n",
    "percentages = ['host_response_rate', 'host_acceptance_rate']\n",
    "for x in percentages:\n",
    "    listings[x] = pd.to_numeric(listings[x].str.strip('%')).div(100)\n",
    "    \n",
    "# format currency cols\n",
    "currency = ['price', 'weekly_price', 'monthly_price', 'security_deposit', 'cleaning_fee'\n",
    "         , 'guests_included','extra_people']\n",
    "for x in currency:\n",
    "    listings[x] = listings[x].replace('[\\$,]', '', regex=True).astype(float)\n",
    "    \n",
    "# format numeric cols\n",
    "numerics = ['host_total_listings_count', 'accommodates', 'bathrooms', 'bedrooms', 'beds'\n",
    "          , 'minimum_nights', 'maximum_nights', 'minimum_minimum_nights', 'maximum_minimum_nights'\n",
    "          , 'minimum_maximum_nights', 'maximum_maximum_nights', 'minimum_nights_avg_ntm', 'maximum_nights_avg_ntm'\n",
    "          , 'availability_30', 'availability_60', 'availability_90', 'availability_365', 'number_of_reviews'\n",
    "          , 'number_of_reviews_ltm', 'review_scores_rating', 'review_scores_accuracy','review_scores_cleanliness'\n",
    "          , 'review_scores_checkin', 'review_scores_communication', 'review_scores_location','review_scores_value'\n",
    "          , 'calculated_host_listings_count', 'calculated_host_listings_count_entire_homes'\n",
    "          , 'calculated_host_listings_count_private_rooms', 'calculated_host_listings_count_shared_rooms'\n",
    "          , 'reviews_per_month']\n",
    "for x in numerics:\n",
    "    listings[x] = listings[x].astype(float)\n",
    "    \n",
    "# format booleans\n",
    "bools = ['host_is_superhost', 'host_has_profile_pic' , 'host_identity_verified', 'is_location_exact'\n",
    "         , 'host_is_superhost', 'requires_license', 'instant_bookable', 'is_business_travel_ready'\n",
    "         , 'require_guest_profile_picture', 'require_guest_phone_verification']\n",
    "for x in bools:\n",
    "    listings[x] = listings[x].astype(bool)"
   ]
  },
  {
   "cell_type": "code",
   "execution_count": 6,
   "metadata": {},
   "outputs": [
    {
     "data": {
      "text/plain": [
       "False"
      ]
     },
     "execution_count": 6,
     "metadata": {},
     "output_type": "execute_result"
    }
   ],
   "source": [
    "# check to make sure dates are correct. There are no records where the first review is greater than the last review.\n",
    "\n",
    "[listings[listings['first_review'].isnull()==False] > listings[listings['last_review'].isnull()==False]] == True"
   ]
  },
  {
   "cell_type": "code",
   "execution_count": 7,
   "metadata": {},
   "outputs": [
    {
     "name": "stdout",
     "output_type": "stream",
     "text": [
      "Records before August 2008:  2\n"
     ]
    }
   ],
   "source": [
    "# Airbnb was founded in August 2008. Two records are before August 2008, so they will be removed.\n",
    "\n",
    "print('Records before August 2008: ', listings[listings['host_since']<'2008-08-01']['id'].count())\n",
    "listings = listings[listings['host_since']>'2008-08-01']"
   ]
  },
  {
   "cell_type": "code",
   "execution_count": 8,
   "metadata": {},
   "outputs": [],
   "source": [
    "# when manually taking a look at the data, street did not seem to pass through correctly. We can still make sure \n",
    "# that all residences are in SF.\n",
    "# remove all data not in SF\n",
    "# South SF will sneak through based on the above logic. We will filter out South SF in particular\n",
    "\n",
    "listings = listings[listings['street'].str.contains('San Francisco')]\n",
    "listings = listings[~listings['street'].str.contains('South San Francisco')]"
   ]
  },
  {
   "cell_type": "code",
   "execution_count": 9,
   "metadata": {},
   "outputs": [],
   "source": [
    "# some guests have never updated their calendar. This likely means they signed up to host, but never accepted a \n",
    "# reservation. we can remove them from the dataset\n",
    "\n",
    "listings = listings[~listings['calendar_updated'].str.contains('never')]"
   ]
  },
  {
   "cell_type": "code",
   "execution_count": null,
   "metadata": {},
   "outputs": [],
   "source": []
  },
  {
   "cell_type": "code",
   "execution_count": null,
   "metadata": {},
   "outputs": [],
   "source": []
  },
  {
   "cell_type": "code",
   "execution_count": null,
   "metadata": {},
   "outputs": [],
   "source": []
  },
  {
   "cell_type": "code",
   "execution_count": null,
   "metadata": {},
   "outputs": [],
   "source": []
  },
  {
   "cell_type": "code",
   "execution_count": 11,
   "metadata": {},
   "outputs": [
    {
     "data": {
      "image/png": "[encoded data removed]",
      "text/plain": [
       "<Figure size 1080x432 with 1 Axes>"
      ]
     },
     "metadata": {},
     "output_type": "display_data"
    }
   ],
   "source": [
    "plt.rcParams['figure.figsize'] = 15,6\n",
    "listings['neighbourhood_cleansed'].value_counts().plot(kind='bar')\n",
    "plt.show()"
   ]
  },
  {
   "cell_type": "code",
   "execution_count": null,
   "metadata": {},
   "outputs": [],
   "source": []
  },
  {
   "cell_type": "code",
   "execution_count": null,
   "metadata": {},
   "outputs": [],
   "source": []
  },
  {
   "cell_type": "code",
   "execution_count": null,
   "metadata": {},
   "outputs": [],
   "source": []
  },
  {
   "cell_type": "code",
   "execution_count": null,
   "metadata": {},
   "outputs": [],
   "source": []
  },
  {
   "cell_type": "code",
   "execution_count": null,
   "metadata": {},
   "outputs": [],
   "source": []
  }
 ],
 "metadata": {
  "kernelspec": {
   "display_name": "Python 3",
   "language": "python",
   "name": "python3"
  },
  "language_info": {
   "codemirror_mode": {
    "name": "ipython",
    "version": 3
   },
   "file_extension": ".py",
   "mimetype": "text/x-python",
   "name": "python",
   "nbconvert_exporter": "python",
   "pygments_lexer": "ipython3",
   "version": "3.6.5"
  }
 },
 "nbformat": 4,
 "nbformat_minor": 2
}
